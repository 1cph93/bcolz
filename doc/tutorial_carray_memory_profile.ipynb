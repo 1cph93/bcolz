{
 "cells": [
  {
   "cell_type": "markdown",
   "metadata": {},
   "source": [
    "# Carray memory profiling"
   ]
  },
  {
   "cell_type": "markdown",
   "metadata": {},
   "source": [
    "<a id='go to index'></a>\n",
    "Index:\n",
    "  1. <a href='#Profiling carray'>Profiling carray</a>\n",
    "  -  <a href='#Profiling carray iterators'>Profiling carray iterators</a>"
   ]
  },
  {
   "cell_type": "markdown",
   "metadata": {},
   "source": [
    "In this part of the tutorial we will make use of the ipython_memwatcher to analyze the memory usage of the carray objects compared to Numpy arrays.\n",
    "\n",
    "Please be aware that if you are going to run this section of the notebook several times ou might need to restart the IPython kernel.\n",
    "If you see extrange results, get confused or don't trust the results, quit IPython and start a fresh shell, then run the fewest commands you need to understand how RAM is added to the process."
   ]
  },
  {
   "cell_type": "markdown",
   "metadata": {},
   "source": [
    "<a id='Profiling carray'></a>\n",
    "## Profiling carray\n",
    "<a href='#go to index'>Go to index</a>"
   ]
  },
  {
   "cell_type": "code",
   "execution_count": 1,
   "metadata": {
    "collapsed": false
   },
   "outputs": [
    {
     "name": "stdout",
     "output_type": "stream",
     "text": [
      "In [1] used 0.082 MiB RAM in 0.002s, peaked 0.000 MiB above current, total RAM usage 56.660 MiB\n"
     ]
    }
   ],
   "source": [
    "from ipython_memwatcher import MemWatcher\n",
    "import numpy as np\n",
    "import bcolz\n",
    "import pandas as pd\n",
    "\n",
    "N = 1e8\n",
    "arange_results = {}\n",
    "mw = MemWatcher()\n",
    "mw.start_watching_memory()"
   ]
  },
  {
   "cell_type": "markdown",
   "metadata": {},
   "source": [
    "Let's create a couple of big objects:"
   ]
  },
  {
   "cell_type": "code",
   "execution_count": 2,
   "metadata": {
    "collapsed": false
   },
   "outputs": [
    {
     "name": "stdout",
     "output_type": "stream",
     "text": [
      "In [2] used 762.969 MiB RAM in 0.386s, peaked 0.000 MiB above current, total RAM usage 819.629 MiB\n"
     ]
    }
   ],
   "source": [
    "a = np.arange(N)"
   ]
  },
  {
   "cell_type": "code",
   "execution_count": 3,
   "metadata": {
    "collapsed": false
   },
   "outputs": [
    {
     "name": "stdout",
     "output_type": "stream",
     "text": [
      "In [3] used 0.027 MiB RAM in 0.002s, peaked 0.000 MiB above current, total RAM usage 819.656 MiB\n"
     ]
    }
   ],
   "source": [
    "# Get some measurements from the last executed cell:\n",
    "arange_results['numpy'] = mw.measurements.memory_delta"
   ]
  },
  {
   "cell_type": "code",
   "execution_count": 4,
   "metadata": {
    "collapsed": false
   },
   "outputs": [
    {
     "name": "stdout",
     "output_type": "stream",
     "text": [
      "In [4] used 25.652 MiB RAM in 0.430s, peaked 0.000 MiB above current, total RAM usage 845.309 MiB\n"
     ]
    }
   ],
   "source": [
    "b = bcolz.arange(N)"
   ]
  },
  {
   "cell_type": "code",
   "execution_count": 5,
   "metadata": {
    "collapsed": false
   },
   "outputs": [
    {
     "name": "stdout",
     "output_type": "stream",
     "text": [
      "In [5] used 0.043 MiB RAM in 0.002s, peaked 0.000 MiB above current, total RAM usage 845.352 MiB\n"
     ]
    }
   ],
   "source": [
    "# Get some measurements from the last executed cell:\n",
    "arange_results['carray in-memory'] = mw.measurements.memory_delta"
   ]
  },
  {
   "cell_type": "code",
   "execution_count": 6,
   "metadata": {
    "collapsed": false
   },
   "outputs": [
    {
     "name": "stdout",
     "output_type": "stream",
     "text": [
      "In [6] used 1.656 MiB RAM in 0.685s, peaked 0.000 MiB above current, total RAM usage 847.008 MiB\n"
     ]
    }
   ],
   "source": [
    "b_disk = bcolz.arange(N, rootdir='mydir', mode='w')"
   ]
  },
  {
   "cell_type": "code",
   "execution_count": 7,
   "metadata": {
    "collapsed": false
   },
   "outputs": [
    {
     "name": "stdout",
     "output_type": "stream",
     "text": [
      "In [7] used 0.020 MiB RAM in 0.001s, peaked 0.000 MiB above current, total RAM usage 847.027 MiB\n"
     ]
    }
   ],
   "source": [
    "# Get some measurements from the last executed cell:\n",
    "arange_results['carray on-disk'] = mw.measurements.memory_delta"
   ]
  },
  {
   "cell_type": "code",
   "execution_count": 8,
   "metadata": {
    "collapsed": false
   },
   "outputs": [
    {
     "name": "stdout",
     "output_type": "stream",
     "text": [
      "{'numpy': 762.96875, 'carray in-memory': 25.65234375, 'carray on-disk': 1.65625}\n"
     ]
    },
    {
     "data": {
      "text/plain": [
       "<matplotlib.axes._subplots.AxesSubplot at 0x137e46590>"
      ]
     },
     "execution_count": 8,
     "metadata": {},
     "output_type": "execute_result"
    },
    {
     "data": {
      "image/png": "[encoded data removed]",
      "text/plain": [
       "<matplotlib.figure.Figure at 0x137e355d0>"
      ]
     },
     "metadata": {},
     "output_type": "display_data"
    }
   ],
   "source": [
    "%matplotlib inline\n",
    "mw.stop_watching_memory()\n",
    "\n",
    "d = arange_results\n",
    "print d\n",
    "\n",
    "arange_results_df = pd.DataFrame({'MiB': arange_results.values()}, index=arange_results.keys())\n",
    "pd.options.display.mpl_style = 'default'\n",
    "arange_results_df.plot(kind='barh', figsize=(9,3), fontsize=16, title=\"arange RAM memory consumption\")"
   ]
  },
  {
   "cell_type": "markdown",
   "metadata": {},
   "source": [
    "In this example, the numpy array consumes aproximately what we would expect ~760MB  (N items x 8bytes x 2^-20 factor MB). Due to the nature of our data set, default compression does already a pretty neat job, and the ammount of memory required by this object is much smaller, around 25MB.\n",
    "\n",
    "But a carray on-disk consumes only 1.5MB, in this case our data resides on-disk using RAM only to keep references to that object, therefore as you see you can store huge amounts of information while treating them as if they were in-memory, carray on-disk and in-memory support exactly the same set of operations.\n",
    "\n",
    "Compression ratios will highly depend on your data set, in case your data set would be highly random and you could not get good compression ratios, you could always use carray on disk to use as much less RAM as possible."
   ]
  },
  {
   "cell_type": "markdown",
   "metadata": {},
   "source": [
    "<a id='Profiling carray iterators'></a>\n",
    "## Profiling carray iterators\n",
    "<a href='#go to index'>Go to index</a>"
   ]
  },
  {
   "cell_type": "markdown",
   "metadata": {},
   "source": [
    "Let's havea a look now at some operations we already saw in this tutorial and check how much memory they actually consume."
   ]
  },
  {
   "cell_type": "code",
   "execution_count": 9,
   "metadata": {
    "collapsed": false
   },
   "outputs": [
    {
     "name": "stdout",
     "output_type": "stream",
     "text": [
      "In [9] used 14.395 MiB RAM in 0.368s, peaked 0.000 MiB above current, total RAM usage 861.422 MiB\n"
     ]
    }
   ],
   "source": [
    "sumif_results = {}\n",
    "mw.start_watching_memory()"
   ]
  },
  {
   "cell_type": "code",
   "execution_count": 10,
   "metadata": {
    "collapsed": false
   },
   "outputs": [
    {
     "name": "stdout",
     "output_type": "stream",
     "text": [
      "In [10] used 0.020 MiB RAM in 21.173s, peaked 0.000 MiB above current, total RAM usage 861.441 MiB\n"
     ]
    }
   ],
   "source": [
    "r = sum(v for v in a if v < 10)"
   ]
  },
  {
   "cell_type": "code",
   "execution_count": 11,
   "metadata": {
    "collapsed": false
   },
   "outputs": [
    {
     "name": "stdout",
     "output_type": "stream",
     "text": [
      "In [11] used 0.000 MiB RAM in 0.001s, peaked 0.000 MiB above current, total RAM usage 861.441 MiB\n"
     ]
    }
   ],
   "source": [
    "# Get some measurements from the last executed cell:\n",
    "sumif_results['numpy'] = mw.measurements.memory_delta"
   ]
  },
  {
   "cell_type": "code",
   "execution_count": 12,
   "metadata": {
    "collapsed": false
   },
   "outputs": [
    {
     "name": "stdout",
     "output_type": "stream",
     "text": [
      "In [12] used 3.105 MiB RAM in 6.884s, peaked 0.000 MiB above current, total RAM usage 864.547 MiB\n"
     ]
    }
   ],
   "source": [
    "r =  sum(v for v in b if v < 10)"
   ]
  },
  {
   "cell_type": "code",
   "execution_count": 13,
   "metadata": {
    "collapsed": false
   },
   "outputs": [
    {
     "name": "stdout",
     "output_type": "stream",
     "text": [
      "In [13] used 0.004 MiB RAM in 0.001s, peaked 0.000 MiB above current, total RAM usage 864.551 MiB\n"
     ]
    }
   ],
   "source": [
    "# Get some measurements from the last executed cell:\n",
    "sumif_results['carray in-memory'] = mw.measurements.memory_delta"
   ]
  },
  {
   "cell_type": "code",
   "execution_count": 14,
   "metadata": {
    "collapsed": false
   },
   "outputs": [
    {
     "name": "stdout",
     "output_type": "stream",
     "text": [
      "In [14] used 0.094 MiB RAM in 6.590s, peaked 0.000 MiB above current, total RAM usage 864.645 MiB\n"
     ]
    }
   ],
   "source": [
    "r =  sum(v for v in b_disk if v < 10)"
   ]
  },
  {
   "cell_type": "code",
   "execution_count": 15,
   "metadata": {
    "collapsed": false
   },
   "outputs": [
    {
     "name": "stdout",
     "output_type": "stream",
     "text": [
      "In [15] used 0.020 MiB RAM in 0.001s, peaked 0.000 MiB above current, total RAM usage 864.664 MiB\n"
     ]
    }
   ],
   "source": [
    "# Get some measurements from the last executed cell:\n",
    "sumif_results['carray on-disk'] = mw.measurements.memory_delta"
   ]
  },
  {
   "cell_type": "code",
   "execution_count": 16,
   "metadata": {
    "collapsed": false
   },
   "outputs": [
    {
     "name": "stdout",
     "output_type": "stream",
     "text": [
      "{'numpy': 0.01953125, 'carray in-memory': 3.10546875, 'carray on-disk': 0.09375}\n"
     ]
    },
    {
     "data": {
      "text/plain": [
       "<matplotlib.axes._subplots.AxesSubplot at 0x137e87cd0>"
      ]
     },
     "execution_count": 16,
     "metadata": {},
     "output_type": "execute_result"
    },
    {
     "data": {
      "image/png": "[encoded data removed]",
      "text/plain": [
       "<matplotlib.figure.Figure at 0x137e9da10>"
      ]
     },
     "metadata": {},
     "output_type": "display_data"
    }
   ],
   "source": [
    "%matplotlib inline\n",
    "mw.stop_watching_memory()\n",
    "d = sumif_results\n",
    "print d\n",
    "\n",
    "sumif_df = pd.DataFrame({'MiB': d.values()}, index=d.keys())\n",
    "pd.options.display.mpl_style = 'default'\n",
    "sumif_df.plot(kind='barh', figsize=(9,3), fontsize=16, title=\"sum-if RAM memory consumption\")"
   ]
  },
  {
   "cell_type": "markdown",
   "metadata": {},
   "source": [
    "When you iterate `carray` objects, the iterator needs to decompress \n",
    "chunks and therefore they use extra memory, but as you can see the \n",
    "do that in a very efficient way.\n",
    "They don't even consume 4MB for iterating a 760MB dataset.\n",
    "\n",
    "`Numpy` consumes barely no extra memory, but keep in mind that the \n",
    "`numpy array` is living raw in-memory, so let's plot these extra \n",
    "memory consumptions next to the actual size of the data set."
   ]
  },
  {
   "cell_type": "code",
   "execution_count": 18,
   "metadata": {
    "collapsed": false,
    "scrolled": true
   },
   "outputs": [
    {
     "data": {
      "text/plain": [
       "<matplotlib.text.Text at 0x138d89350>"
      ]
     },
     "execution_count": 18,
     "metadata": {},
     "output_type": "execute_result"
    },
    {
     "data": {
      "image/png": "[encoded data removed]",
      "text/plain": [
       "<matplotlib.figure.Figure at 0x138ba0750>"
      ]
     },
     "metadata": {},
     "output_type": "display_data"
    }
   ],
   "source": [
    "import matplotlib.pyplot as plt\n",
    "y_pos = np.arange(len(sumif_df))\n",
    "plt.figure(1, figsize=[8,3])\n",
    "plt.grid(True)\n",
    "plt.barh(y_pos, sumif_df.values, align='center')\n",
    "plt.barh(y_pos, arange_results_df.values,\n",
    "         left=sumif_df.values,\n",
    "         align='center', color = '#ec7764')\n",
    "plt.yticks(y_pos, sumif_df.index, fontsize=16)\n",
    "plt.xlabel('MiB RAM', fontsize=16)\n",
    "plt.title('sumif total RAM memory consumption', fontsize=16)"
   ]
  },
  {
   "cell_type": "code",
   "execution_count": null,
   "metadata": {
    "collapsed": true
   },
   "outputs": [],
   "source": []
  }
 ],
 "metadata": {
  "kernelspec": {
   "display_name": "Python 2",
   "language": "python",
   "name": "python2"
  },
  "language_info": {
   "codemirror_mode": {
    "name": "ipython",
    "version": 2
   },
   "file_extension": ".py",
   "mimetype": "text/x-python",
   "name": "python",
   "nbconvert_exporter": "python",
   "pygments_lexer": "ipython2",
   "version": "2.7.10"
  }
 },
 "nbformat": 4,
 "nbformat_minor": 0
}
