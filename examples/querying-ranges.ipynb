{
 "cells": [
  {
   "cell_type": "markdown",
   "metadata": {},
   "source": [
    "# Querying with ranges\n",
    "This is a small tutorial showing how you can accelerate the queries of large tables by using `ctable.whereblocks()` and a combination of boolean conditions and the selections of columns."
   ]
  },
  {
   "cell_type": "code",
   "execution_count": 1,
   "metadata": {},
   "outputs": [],
   "source": [
    "import bcolz\n",
    "import numpy as np"
   ]
  },
  {
   "cell_type": "code",
   "execution_count": 2,
   "metadata": {},
   "outputs": [
    {
     "name": "stdout",
     "output_type": "stream",
     "text": [
      "-=-=-=-=-=-=-=-=-=-=-=-=-=-=-=-=-=-=-=-=-=-=-=-=-=-=-=-=-=-=-=-=-=-=-=-=-=-=\n",
      "bcolz version:     1.2.1\n",
      "NumPy version:     1.16.2\n",
      "Blosc version:     1.14.3 ($Date:: 2018-04-06 #$)\n",
      "Blosc compressors: ['blosclz', 'lz4', 'lz4hc', 'snappy', 'zlib', 'zstd']\n",
      "Numexpr version:   2.6.9\n",
      "Dask version:      1.2.2\n",
      "Python version:    3.7.2 (default, Dec 29 2018, 00:00:04) \n",
      "[Clang 4.0.1 (tags/RELEASE_401/final)]\n",
      "Platform:          darwin-x86_64\n",
      "Byte-ordering:     little\n",
      "Detected cores:    4\n",
      "-=-=-=-=-=-=-=-=-=-=-=-=-=-=-=-=-=-=-=-=-=-=-=-=-=-=-=-=-=-=-=-=-=-=-=-=-=-=\n"
     ]
    }
   ],
   "source": [
    "bcolz.print_versions()"
   ]
  },
  {
   "cell_type": "markdown",
   "metadata": {},
   "source": [
    "## Create a table"
   ]
  },
  {
   "cell_type": "code",
   "execution_count": 3,
   "metadata": {},
   "outputs": [],
   "source": [
    "# The number of entries in the table\n",
    "N = int(1e7)"
   ]
  },
  {
   "cell_type": "code",
   "execution_count": 4,
   "metadata": {},
   "outputs": [
    {
     "data": {
      "text/plain": [
       "ctable((10000000,), [('f0', '<i4'), ('f1', '<f8')])\n",
       "  nbytes: 114.44 MB; cbytes: 12.93 MB; ratio: 8.85\n",
       "  cparams := cparams(clevel=5, shuffle=1, cname='lz4', quantize=0)\n",
       "[(0, 0.) (1, 1.) (2, 4.) ..., (9999997, 9.999994e+13)\n",
       " (9999998, 9.999996e+13) (9999999, 9.999998e+13)]"
      ]
     },
     "execution_count": 4,
     "metadata": {},
     "output_type": "execute_result"
    }
   ],
   "source": [
    "# Create the table with two fields, one integer and the other double\n",
    "ct = bcolz.fromiter(((i,i*i) for i in range(N)), dtype=\"i4,f8\", count=N)\n",
    "ct"
   ]
  },
  {
   "cell_type": "markdown",
   "metadata": {},
   "source": [
    "## Add a timestamp"
   ]
  },
  {
   "cell_type": "code",
   "execution_count": 5,
   "metadata": {},
   "outputs": [
    {
     "data": {
      "text/plain": [
       "carray((10000000,), float64)\n",
       "  nbytes := 76.29 MB; cbytes := 1.39 MB; ratio: 54.72\n",
       "  cparams := cparams(clevel=5, shuffle=1, cname='lz4', quantize=0)\n",
       "  chunklen := 65536; chunksize: 524288; blocksize: 524288\n",
       "[  1.55800858e+09   1.55800864e+09   1.55800870e+09 ...,   2.15800840e+09\n",
       "   2.15800846e+09   2.15800852e+09]"
      ]
     },
     "execution_count": 5,
     "metadata": {},
     "output_type": "execute_result"
    }
   ],
   "source": [
    "# Create some arbitrary timestamps\n",
    "import datetime\n",
    "now = datetime.datetime.timestamp(datetime.datetime.now())\n",
    "timestamps = bcolz.fromiter((now + 60 * i for i in range(N)), dtype=np.float64, count=N)\n",
    "timestamps"
   ]
  },
  {
   "cell_type": "code",
   "execution_count": 6,
   "metadata": {},
   "outputs": [
    {
     "data": {
      "text/plain": [
       "ctable((10000000,), [('f0', '<i4'), ('f1', '<f8'), ('timestamp', '<f8')])\n",
       "  nbytes: 190.73 MB; cbytes: 14.32 MB; ratio: 13.32\n",
       "  cparams := cparams(clevel=5, shuffle=1, cname='lz4', quantize=0)\n",
       "[(0, 0., 1.55800858e+09) (1, 1., 1.55800864e+09) (2, 4., 1.5580087e+09)\n",
       " ..., (9999997, 9.999994e+13, 2.1580084e+09)\n",
       " (9999998, 9.999996e+13, 2.15800846e+09)\n",
       " (9999999, 9.999998e+13, 2.15800852e+09)]"
      ]
     },
     "execution_count": 6,
     "metadata": {},
     "output_type": "execute_result"
    }
   ],
   "source": [
    "# Add the timestamps top the table, in the field \"timestamp\" (note that the trailing 's' is out now)\n",
    "ct.addcol(timestamps, name=\"timestamp\")\n",
    "ct"
   ]
  },
  {
   "cell_type": "markdown",
   "metadata": {},
   "source": [
    "## Playing with `ctable.whereblocks`"
   ]
  },
  {
   "cell_type": "code",
   "execution_count": 7,
   "metadata": {},
   "outputs": [
    {
     "name": "stdout",
     "output_type": "stream",
     "text": [
      "CPU times: user 1.32 s, sys: 44.5 ms, total: 1.36 s\n",
      "Wall time: 1.41 s\n"
     ]
    }
   ],
   "source": [
    "# Do a query with the whole range of timestamps\n",
    "%time res = [row for row in ct.whereblocks(\"timestamp > 0\", outcols=\"f0\")]"
   ]
  },
  {
   "cell_type": "code",
   "execution_count": 8,
   "metadata": {},
   "outputs": [
    {
     "name": "stdout",
     "output_type": "stream",
     "text": [
      "CPU times: user 102 ms, sys: 14.9 ms, total: 117 ms\n",
      "Wall time: 73.6 ms\n"
     ]
    },
    {
     "data": {
      "text/plain": [
       "[array([(    2, 4.00000000e+00, 1.55800870e+09),\n",
       "        (    3, 9.00000000e+00, 1.55800876e+09),\n",
       "        (    4, 1.60000000e+01, 1.55800882e+09), ...,\n",
       "        (16664, 2.77688896e+08, 1.55900842e+09),\n",
       "        (16665, 2.77722225e+08, 1.55900848e+09),\n",
       "        (16666, 2.77755556e+08, 1.55900854e+09)],\n",
       "       dtype=[('f0', '<i4'), ('f1', '<f8'), ('timestamp', '<f8')])]"
      ]
     },
     "execution_count": 8,
     "metadata": {},
     "output_type": "execute_result"
    }
   ],
   "source": [
    "# Do a query in a much more small time range\n",
    "cond = \"(timestamp > now + 100) & (timestamp < now + 1e6)\"\n",
    "%time [row for row in ct.whereblocks(cond)]"
   ]
  },
  {
   "cell_type": "code",
   "execution_count": 9,
   "metadata": {},
   "outputs": [
    {
     "data": {
      "text/plain": [
       "carray((10000000,), bool)\n",
       "  nbytes := 9.54 MB; cbytes := 257.10 KB; ratio: 37.98\n",
       "  cparams := cparams(clevel=5, shuffle=1, cname='lz4', quantize=0)\n",
       "  chunklen := 262144; chunksize: 262144; blocksize: 65536\n",
       "[False False  True ..., False False False]"
      ]
     },
     "execution_count": 9,
     "metadata": {},
     "output_type": "execute_result"
    }
   ],
   "source": [
    "# Create a boolean array in-memory for ultimate speed\n",
    "carray_cond = bcolz.eval(\"(timestamps > now + 100) & (timestamps < now + 1e6)\")\n",
    "carray_cond"
   ]
  },
  {
   "cell_type": "markdown",
   "metadata": {},
   "source": [
    "Note that compression ratio is very good, to the point that it usually fits in CPU caches."
   ]
  },
  {
   "cell_type": "code",
   "execution_count": 10,
   "metadata": {},
   "outputs": [
    {
     "name": "stdout",
     "output_type": "stream",
     "text": [
      "CPU times: user 3.74 ms, sys: 733 µs, total: 4.47 ms\n",
      "Wall time: 3.56 ms\n"
     ]
    },
    {
     "data": {
      "text/plain": [
       "[array([(    2,), (    3,), (    4,), ..., (16664,), (16665,), (16666,)],\n",
       "       dtype=[('f0', '<i4')])]"
      ]
     },
     "execution_count": 10,
     "metadata": {},
     "output_type": "execute_result"
    }
   ],
   "source": [
    "# Now, re-run with the boolean array:\n",
    "%time [row for row in ct.whereblocks(carray_cond, outcols=\"f0\")]"
   ]
  },
  {
   "cell_type": "code",
   "execution_count": 11,
   "metadata": {},
   "outputs": [
    {
     "name": "stdout",
     "output_type": "stream",
     "text": [
      "CPU times: user 5.31 ms, sys: 1.18 ms, total: 6.5 ms\n",
      "Wall time: 5.42 ms\n"
     ]
    },
    {
     "data": {
      "text/plain": [
       "[array([    2,     3,     4, ..., 16664, 16665, 16666], dtype=int32)]"
      ]
     },
     "execution_count": 11,
     "metadata": {},
     "output_type": "execute_result"
    }
   ],
   "source": [
    "# Get rid of the structured type and use just the dtype for the integer field\n",
    "%time [row.astype(ct.dtype['f0']) for row in ct.whereblocks(carray_cond, outcols=\"f0\")]"
   ]
  },
  {
   "cell_type": "markdown",
   "metadata": {},
   "source": [
    "## Apply vectorized operations to the blocks"
   ]
  },
  {
   "cell_type": "code",
   "execution_count": 12,
   "metadata": {},
   "outputs": [
    {
     "name": "stdout",
     "output_type": "stream",
     "text": [
      "CPU times: user 58.3 ms, sys: 2.68 ms, total: 61 ms\n",
      "Wall time: 59.9 ms\n"
     ]
    },
    {
     "data": {
      "text/plain": [
       "[array([ 0,  0,  0, ..., 35, 35, 35], dtype=int32)]"
      ]
     },
     "execution_count": 12,
     "metadata": {},
     "output_type": "execute_result"
    }
   ],
   "source": [
    "# Now, perform some bytewise operation on each element\n",
    "def some_bitwise_op(x):\n",
    "    y = np.empty(x.shape, x.dtype)\n",
    "    for i in range(len(x)):\n",
    "        y[i] = x[i] >> 3 & 0xFF\n",
    "    return y\n",
    "%time [some_bitwise_op(row.astype(ct.dtype['f0'])) for row in ct.whereblocks(carray_cond, outcols=\"f0\")]"
   ]
  },
  {
   "cell_type": "code",
   "execution_count": 13,
   "metadata": {},
   "outputs": [
    {
     "name": "stdout",
     "output_type": "stream",
     "text": [
      "CPU times: user 100 ms, sys: 21.5 ms, total: 122 ms\n",
      "Wall time: 186 ms\n"
     ]
    },
    {
     "data": {
      "text/plain": [
       "[array([ 0,  0,  0, ..., 35, 35, 35], dtype=int32)]"
      ]
     },
     "execution_count": 13,
     "metadata": {},
     "output_type": "execute_result"
    }
   ],
   "source": [
    "# Now, compile the function with numba\n",
    "import numba\n",
    "@numba.jit(nopython=True, cache=True)\n",
    "def some_bitwise_op_numba(x):\n",
    "    y = np.empty(x.shape, x.dtype)\n",
    "    for i in range(len(x)):\n",
    "        y[i] = x[i] >> 3 & 0xFF\n",
    "    return y\n",
    "%time [some_bitwise_op_numba(row.astype(ct.dtype['f0'])) for row in ct.whereblocks(carray_cond, outcols=\"f0\")]"
   ]
  },
  {
   "cell_type": "code",
   "execution_count": 14,
   "metadata": {},
   "outputs": [
    {
     "name": "stdout",
     "output_type": "stream",
     "text": [
      "CPU times: user 4.07 ms, sys: 1.03 ms, total: 5.1 ms\n",
      "Wall time: 4.05 ms\n"
     ]
    },
    {
     "data": {
      "text/plain": [
       "[array([ 0,  0,  0, ..., 35, 35, 35], dtype=int32)]"
      ]
     },
     "execution_count": 14,
     "metadata": {},
     "output_type": "execute_result"
    }
   ],
   "source": [
    "# Ops, we have got too much time.  Re-run again now that the numba has compiled the function \n",
    "%time [some_bitwise_op_numba(row.astype(ct.dtype['f0'])) for row in ct.whereblocks(carray_cond, outcols=\"f0\")]"
   ]
  },
  {
   "cell_type": "markdown",
   "metadata": {},
   "source": [
    "Hey, numba is really, really fast.  That's all folks!"
   ]
  }
 ],
 "metadata": {
  "kernelspec": {
   "display_name": "Python 3",
   "language": "python",
   "name": "python3"
  },
  "language_info": {
   "codemirror_mode": {
    "name": "ipython",
    "version": 3
   },
   "file_extension": ".py",
   "mimetype": "text/x-python",
   "name": "python",
   "nbconvert_exporter": "python",
   "pygments_lexer": "ipython3",
   "version": "3.7.2"
  }
 },
 "nbformat": 4,
 "nbformat_minor": 2
}
